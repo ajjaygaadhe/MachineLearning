{
 "cells": [
  {
   "cell_type": "code",
   "execution_count": 1,
   "metadata": {},
   "outputs": [],
   "source": [
    "import numpy as np\n",
    "import pandas as pd\n",
    "import seaborn as sns\n",
    "import matplotlib.pyplot as plt\n",
    "\n"
   ]
  },
  {
   "cell_type": "code",
   "execution_count": 9,
   "metadata": {},
   "outputs": [],
   "source": [
    "df = pd.read_csv('loan_data.csv')"
   ]
  },
  {
   "cell_type": "code",
   "execution_count": 10,
   "metadata": {},
   "outputs": [
    {
     "data": {
      "text/html": [
       "<div>\n",
       "<style scoped>\n",
       "    .dataframe tbody tr th:only-of-type {\n",
       "        vertical-align: middle;\n",
       "    }\n",
       "\n",
       "    .dataframe tbody tr th {\n",
       "        vertical-align: top;\n",
       "    }\n",
       "\n",
       "    .dataframe thead th {\n",
       "        text-align: right;\n",
       "    }\n",
       "</style>\n",
       "<table border=\"1\" class=\"dataframe\">\n",
       "  <thead>\n",
       "    <tr style=\"text-align: right;\">\n",
       "      <th></th>\n",
       "      <th>credit.policy</th>\n",
       "      <th>purpose</th>\n",
       "      <th>int.rate</th>\n",
       "      <th>installment</th>\n",
       "      <th>log.annual.inc</th>\n",
       "      <th>dti</th>\n",
       "      <th>fico</th>\n",
       "      <th>days.with.cr.line</th>\n",
       "      <th>revol.bal</th>\n",
       "      <th>revol.util</th>\n",
       "      <th>inq.last.6mths</th>\n",
       "      <th>delinq.2yrs</th>\n",
       "      <th>pub.rec</th>\n",
       "      <th>not.fully.paid</th>\n",
       "    </tr>\n",
       "  </thead>\n",
       "  <tbody>\n",
       "    <tr>\n",
       "      <th>0</th>\n",
       "      <td>1</td>\n",
       "      <td>debt_consolidation</td>\n",
       "      <td>0.1189</td>\n",
       "      <td>829.10</td>\n",
       "      <td>11.350407</td>\n",
       "      <td>19.48</td>\n",
       "      <td>737</td>\n",
       "      <td>5639.958333</td>\n",
       "      <td>28854</td>\n",
       "      <td>52.1</td>\n",
       "      <td>0</td>\n",
       "      <td>0</td>\n",
       "      <td>0</td>\n",
       "      <td>0</td>\n",
       "    </tr>\n",
       "    <tr>\n",
       "      <th>1</th>\n",
       "      <td>1</td>\n",
       "      <td>credit_card</td>\n",
       "      <td>0.1071</td>\n",
       "      <td>228.22</td>\n",
       "      <td>11.082143</td>\n",
       "      <td>14.29</td>\n",
       "      <td>707</td>\n",
       "      <td>2760.000000</td>\n",
       "      <td>33623</td>\n",
       "      <td>76.7</td>\n",
       "      <td>0</td>\n",
       "      <td>0</td>\n",
       "      <td>0</td>\n",
       "      <td>0</td>\n",
       "    </tr>\n",
       "    <tr>\n",
       "      <th>2</th>\n",
       "      <td>1</td>\n",
       "      <td>debt_consolidation</td>\n",
       "      <td>0.1357</td>\n",
       "      <td>366.86</td>\n",
       "      <td>10.373491</td>\n",
       "      <td>11.63</td>\n",
       "      <td>682</td>\n",
       "      <td>4710.000000</td>\n",
       "      <td>3511</td>\n",
       "      <td>25.6</td>\n",
       "      <td>1</td>\n",
       "      <td>0</td>\n",
       "      <td>0</td>\n",
       "      <td>0</td>\n",
       "    </tr>\n",
       "    <tr>\n",
       "      <th>3</th>\n",
       "      <td>1</td>\n",
       "      <td>debt_consolidation</td>\n",
       "      <td>0.1008</td>\n",
       "      <td>162.34</td>\n",
       "      <td>11.350407</td>\n",
       "      <td>8.10</td>\n",
       "      <td>712</td>\n",
       "      <td>2699.958333</td>\n",
       "      <td>33667</td>\n",
       "      <td>73.2</td>\n",
       "      <td>1</td>\n",
       "      <td>0</td>\n",
       "      <td>0</td>\n",
       "      <td>0</td>\n",
       "    </tr>\n",
       "    <tr>\n",
       "      <th>4</th>\n",
       "      <td>1</td>\n",
       "      <td>credit_card</td>\n",
       "      <td>0.1426</td>\n",
       "      <td>102.92</td>\n",
       "      <td>11.299732</td>\n",
       "      <td>14.97</td>\n",
       "      <td>667</td>\n",
       "      <td>4066.000000</td>\n",
       "      <td>4740</td>\n",
       "      <td>39.5</td>\n",
       "      <td>0</td>\n",
       "      <td>1</td>\n",
       "      <td>0</td>\n",
       "      <td>0</td>\n",
       "    </tr>\n",
       "  </tbody>\n",
       "</table>\n",
       "</div>"
      ],
      "text/plain": [
       "   credit.policy             purpose  int.rate  installment  log.annual.inc  \\\n",
       "0              1  debt_consolidation    0.1189       829.10       11.350407   \n",
       "1              1         credit_card    0.1071       228.22       11.082143   \n",
       "2              1  debt_consolidation    0.1357       366.86       10.373491   \n",
       "3              1  debt_consolidation    0.1008       162.34       11.350407   \n",
       "4              1         credit_card    0.1426       102.92       11.299732   \n",
       "\n",
       "     dti  fico  days.with.cr.line  revol.bal  revol.util  inq.last.6mths  \\\n",
       "0  19.48   737        5639.958333      28854        52.1               0   \n",
       "1  14.29   707        2760.000000      33623        76.7               0   \n",
       "2  11.63   682        4710.000000       3511        25.6               1   \n",
       "3   8.10   712        2699.958333      33667        73.2               1   \n",
       "4  14.97   667        4066.000000       4740        39.5               0   \n",
       "\n",
       "   delinq.2yrs  pub.rec  not.fully.paid  \n",
       "0            0        0               0  \n",
       "1            0        0               0  \n",
       "2            0        0               0  \n",
       "3            0        0               0  \n",
       "4            1        0               0  "
      ]
     },
     "execution_count": 10,
     "metadata": {},
     "output_type": "execute_result"
    }
   ],
   "source": [
    "df.head()"
   ]
  },
  {
   "cell_type": "code",
   "execution_count": 11,
   "metadata": {},
   "outputs": [],
   "source": [
    "Purpose=pd.get_dummies(df['purpose'],drop_first=True)"
   ]
  },
  {
   "cell_type": "code",
   "execution_count": 12,
   "metadata": {},
   "outputs": [],
   "source": [
    "df=pd.concat([Purpose,df],axis=1)\n"
   ]
  },
  {
   "cell_type": "code",
   "execution_count": 13,
   "metadata": {},
   "outputs": [],
   "source": [
    "df.drop(['purpose'],axis=1,inplace=True)"
   ]
  },
  {
   "cell_type": "code",
   "execution_count": 15,
   "metadata": {},
   "outputs": [
    {
     "data": {
      "text/plain": [
       "<matplotlib.axes._subplots.AxesSubplot at 0xcf9d27f2b0>"
      ]
     },
     "execution_count": 15,
     "metadata": {},
     "output_type": "execute_result"
    },
    {
     "data": {
      "image/png": "[encoded data removed]",
      "text/plain": [
       "<Figure size 432x288 with 2 Axes>"
      ]
     },
     "metadata": {
      "needs_background": "light"
     },
     "output_type": "display_data"
    }
   ],
   "source": [
    "sns.heatmap(df.corr())"
   ]
  },
  {
   "cell_type": "code",
   "execution_count": 16,
   "metadata": {},
   "outputs": [
    {
     "data": {
      "text/html": [
       "<div>\n",
       "<style scoped>\n",
       "    .dataframe tbody tr th:only-of-type {\n",
       "        vertical-align: middle;\n",
       "    }\n",
       "\n",
       "    .dataframe tbody tr th {\n",
       "        vertical-align: top;\n",
       "    }\n",
       "\n",
       "    .dataframe thead th {\n",
       "        text-align: right;\n",
       "    }\n",
       "</style>\n",
       "<table border=\"1\" class=\"dataframe\">\n",
       "  <thead>\n",
       "    <tr style=\"text-align: right;\">\n",
       "      <th></th>\n",
       "      <th>credit_card</th>\n",
       "      <th>debt_consolidation</th>\n",
       "      <th>educational</th>\n",
       "      <th>home_improvement</th>\n",
       "      <th>major_purchase</th>\n",
       "      <th>small_business</th>\n",
       "      <th>credit.policy</th>\n",
       "      <th>int.rate</th>\n",
       "      <th>installment</th>\n",
       "      <th>log.annual.inc</th>\n",
       "      <th>dti</th>\n",
       "      <th>fico</th>\n",
       "      <th>days.with.cr.line</th>\n",
       "      <th>revol.bal</th>\n",
       "      <th>revol.util</th>\n",
       "      <th>inq.last.6mths</th>\n",
       "      <th>delinq.2yrs</th>\n",
       "      <th>pub.rec</th>\n",
       "      <th>not.fully.paid</th>\n",
       "    </tr>\n",
       "  </thead>\n",
       "  <tbody>\n",
       "    <tr>\n",
       "      <th>credit_card</th>\n",
       "      <td>1.000000</td>\n",
       "      <td>-0.326850</td>\n",
       "      <td>-0.075076</td>\n",
       "      <td>-0.103279</td>\n",
       "      <td>-0.085176</td>\n",
       "      <td>-0.102397</td>\n",
       "      <td>0.003216</td>\n",
       "      <td>-0.042109</td>\n",
       "      <td>0.000774</td>\n",
       "      <td>0.072942</td>\n",
       "      <td>0.084476</td>\n",
       "      <td>-0.012512</td>\n",
       "      <td>0.046220</td>\n",
       "      <td>0.072316</td>\n",
       "      <td>0.091321</td>\n",
       "      <td>-0.033640</td>\n",
       "      <td>-0.008817</td>\n",
       "      <td>0.014842</td>\n",
       "      <td>-0.047136</td>\n",
       "    </tr>\n",
       "    <tr>\n",
       "      <th>debt_consolidation</th>\n",
       "      <td>-0.326850</td>\n",
       "      <td>1.000000</td>\n",
       "      <td>-0.161698</td>\n",
       "      <td>-0.222441</td>\n",
       "      <td>-0.183451</td>\n",
       "      <td>-0.220542</td>\n",
       "      <td>0.020193</td>\n",
       "      <td>0.123607</td>\n",
       "      <td>0.161658</td>\n",
       "      <td>-0.026214</td>\n",
       "      <td>0.179149</td>\n",
       "      <td>-0.154132</td>\n",
       "      <td>-0.009318</td>\n",
       "      <td>0.005785</td>\n",
       "      <td>0.211869</td>\n",
       "      <td>-0.044240</td>\n",
       "      <td>-0.000697</td>\n",
       "      <td>0.026845</td>\n",
       "      <td>-0.017543</td>\n",
       "    </tr>\n",
       "    <tr>\n",
       "      <th>educational</th>\n",
       "      <td>-0.075076</td>\n",
       "      <td>-0.161698</td>\n",
       "      <td>1.000000</td>\n",
       "      <td>-0.051094</td>\n",
       "      <td>-0.042138</td>\n",
       "      <td>-0.050658</td>\n",
       "      <td>-0.031346</td>\n",
       "      <td>-0.019618</td>\n",
       "      <td>-0.094510</td>\n",
       "      <td>-0.119799</td>\n",
       "      <td>-0.035325</td>\n",
       "      <td>-0.013012</td>\n",
       "      <td>-0.042621</td>\n",
       "      <td>-0.034743</td>\n",
       "      <td>-0.053128</td>\n",
       "      <td>0.024243</td>\n",
       "      <td>-0.002214</td>\n",
       "      <td>-0.013521</td>\n",
       "      <td>0.021609</td>\n",
       "    </tr>\n",
       "    <tr>\n",
       "      <th>home_improvement</th>\n",
       "      <td>-0.103279</td>\n",
       "      <td>-0.222441</td>\n",
       "      <td>-0.051094</td>\n",
       "      <td>1.000000</td>\n",
       "      <td>-0.057967</td>\n",
       "      <td>-0.069687</td>\n",
       "      <td>0.006036</td>\n",
       "      <td>-0.050697</td>\n",
       "      <td>0.023024</td>\n",
       "      <td>0.116375</td>\n",
       "      <td>-0.092788</td>\n",
       "      <td>0.097474</td>\n",
       "      <td>0.068087</td>\n",
       "      <td>0.003258</td>\n",
       "      <td>-0.114449</td>\n",
       "      <td>0.043827</td>\n",
       "      <td>-0.013098</td>\n",
       "      <td>0.004704</td>\n",
       "      <td>0.007272</td>\n",
       "    </tr>\n",
       "    <tr>\n",
       "      <th>major_purchase</th>\n",
       "      <td>-0.085176</td>\n",
       "      <td>-0.183451</td>\n",
       "      <td>-0.042138</td>\n",
       "      <td>-0.057967</td>\n",
       "      <td>1.000000</td>\n",
       "      <td>-0.057472</td>\n",
       "      <td>0.024281</td>\n",
       "      <td>-0.068978</td>\n",
       "      <td>-0.079836</td>\n",
       "      <td>-0.031020</td>\n",
       "      <td>-0.077719</td>\n",
       "      <td>0.067129</td>\n",
       "      <td>-0.020561</td>\n",
       "      <td>-0.062395</td>\n",
       "      <td>-0.108079</td>\n",
       "      <td>-0.001445</td>\n",
       "      <td>0.004085</td>\n",
       "      <td>-0.011734</td>\n",
       "      <td>-0.028580</td>\n",
       "    </tr>\n",
       "    <tr>\n",
       "      <th>small_business</th>\n",
       "      <td>-0.102397</td>\n",
       "      <td>-0.220542</td>\n",
       "      <td>-0.050658</td>\n",
       "      <td>-0.069687</td>\n",
       "      <td>-0.057472</td>\n",
       "      <td>1.000000</td>\n",
       "      <td>-0.003511</td>\n",
       "      <td>0.151247</td>\n",
       "      <td>0.145654</td>\n",
       "      <td>0.091540</td>\n",
       "      <td>-0.069245</td>\n",
       "      <td>0.063292</td>\n",
       "      <td>0.034883</td>\n",
       "      <td>0.083069</td>\n",
       "      <td>-0.060962</td>\n",
       "      <td>0.042567</td>\n",
       "      <td>-0.004148</td>\n",
       "      <td>-0.005595</td>\n",
       "      <td>0.084460</td>\n",
       "    </tr>\n",
       "    <tr>\n",
       "      <th>credit.policy</th>\n",
       "      <td>0.003216</td>\n",
       "      <td>0.020193</td>\n",
       "      <td>-0.031346</td>\n",
       "      <td>0.006036</td>\n",
       "      <td>0.024281</td>\n",
       "      <td>-0.003511</td>\n",
       "      <td>1.000000</td>\n",
       "      <td>-0.294089</td>\n",
       "      <td>0.058770</td>\n",
       "      <td>0.034906</td>\n",
       "      <td>-0.090901</td>\n",
       "      <td>0.348319</td>\n",
       "      <td>0.099026</td>\n",
       "      <td>-0.187518</td>\n",
       "      <td>-0.104095</td>\n",
       "      <td>-0.535511</td>\n",
       "      <td>-0.076318</td>\n",
       "      <td>-0.054243</td>\n",
       "      <td>-0.158119</td>\n",
       "    </tr>\n",
       "    <tr>\n",
       "      <th>int.rate</th>\n",
       "      <td>-0.042109</td>\n",
       "      <td>0.123607</td>\n",
       "      <td>-0.019618</td>\n",
       "      <td>-0.050697</td>\n",
       "      <td>-0.068978</td>\n",
       "      <td>0.151247</td>\n",
       "      <td>-0.294089</td>\n",
       "      <td>1.000000</td>\n",
       "      <td>0.276140</td>\n",
       "      <td>0.056383</td>\n",
       "      <td>0.220006</td>\n",
       "      <td>-0.714821</td>\n",
       "      <td>-0.124022</td>\n",
       "      <td>0.092527</td>\n",
       "      <td>0.464837</td>\n",
       "      <td>0.202780</td>\n",
       "      <td>0.156079</td>\n",
       "      <td>0.098162</td>\n",
       "      <td>0.159552</td>\n",
       "    </tr>\n",
       "    <tr>\n",
       "      <th>installment</th>\n",
       "      <td>0.000774</td>\n",
       "      <td>0.161658</td>\n",
       "      <td>-0.094510</td>\n",
       "      <td>0.023024</td>\n",
       "      <td>-0.079836</td>\n",
       "      <td>0.145654</td>\n",
       "      <td>0.058770</td>\n",
       "      <td>0.276140</td>\n",
       "      <td>1.000000</td>\n",
       "      <td>0.448102</td>\n",
       "      <td>0.050202</td>\n",
       "      <td>0.086039</td>\n",
       "      <td>0.183297</td>\n",
       "      <td>0.233625</td>\n",
       "      <td>0.081356</td>\n",
       "      <td>-0.010419</td>\n",
       "      <td>-0.004368</td>\n",
       "      <td>-0.032760</td>\n",
       "      <td>0.049955</td>\n",
       "    </tr>\n",
       "    <tr>\n",
       "      <th>log.annual.inc</th>\n",
       "      <td>0.072942</td>\n",
       "      <td>-0.026214</td>\n",
       "      <td>-0.119799</td>\n",
       "      <td>0.116375</td>\n",
       "      <td>-0.031020</td>\n",
       "      <td>0.091540</td>\n",
       "      <td>0.034906</td>\n",
       "      <td>0.056383</td>\n",
       "      <td>0.448102</td>\n",
       "      <td>1.000000</td>\n",
       "      <td>-0.054065</td>\n",
       "      <td>0.114576</td>\n",
       "      <td>0.336896</td>\n",
       "      <td>0.372140</td>\n",
       "      <td>0.054881</td>\n",
       "      <td>0.029171</td>\n",
       "      <td>0.029203</td>\n",
       "      <td>0.016506</td>\n",
       "      <td>-0.033439</td>\n",
       "    </tr>\n",
       "    <tr>\n",
       "      <th>dti</th>\n",
       "      <td>0.084476</td>\n",
       "      <td>0.179149</td>\n",
       "      <td>-0.035325</td>\n",
       "      <td>-0.092788</td>\n",
       "      <td>-0.077719</td>\n",
       "      <td>-0.069245</td>\n",
       "      <td>-0.090901</td>\n",
       "      <td>0.220006</td>\n",
       "      <td>0.050202</td>\n",
       "      <td>-0.054065</td>\n",
       "      <td>1.000000</td>\n",
       "      <td>-0.241191</td>\n",
       "      <td>0.060101</td>\n",
       "      <td>0.188748</td>\n",
       "      <td>0.337109</td>\n",
       "      <td>0.029189</td>\n",
       "      <td>-0.021792</td>\n",
       "      <td>0.006209</td>\n",
       "      <td>0.037362</td>\n",
       "    </tr>\n",
       "    <tr>\n",
       "      <th>fico</th>\n",
       "      <td>-0.012512</td>\n",
       "      <td>-0.154132</td>\n",
       "      <td>-0.013012</td>\n",
       "      <td>0.097474</td>\n",
       "      <td>0.067129</td>\n",
       "      <td>0.063292</td>\n",
       "      <td>0.348319</td>\n",
       "      <td>-0.714821</td>\n",
       "      <td>0.086039</td>\n",
       "      <td>0.114576</td>\n",
       "      <td>-0.241191</td>\n",
       "      <td>1.000000</td>\n",
       "      <td>0.263880</td>\n",
       "      <td>-0.015553</td>\n",
       "      <td>-0.541289</td>\n",
       "      <td>-0.185293</td>\n",
       "      <td>-0.216340</td>\n",
       "      <td>-0.147592</td>\n",
       "      <td>-0.149666</td>\n",
       "    </tr>\n",
       "    <tr>\n",
       "      <th>days.with.cr.line</th>\n",
       "      <td>0.046220</td>\n",
       "      <td>-0.009318</td>\n",
       "      <td>-0.042621</td>\n",
       "      <td>0.068087</td>\n",
       "      <td>-0.020561</td>\n",
       "      <td>0.034883</td>\n",
       "      <td>0.099026</td>\n",
       "      <td>-0.124022</td>\n",
       "      <td>0.183297</td>\n",
       "      <td>0.336896</td>\n",
       "      <td>0.060101</td>\n",
       "      <td>0.263880</td>\n",
       "      <td>1.000000</td>\n",
       "      <td>0.229344</td>\n",
       "      <td>-0.024239</td>\n",
       "      <td>-0.041736</td>\n",
       "      <td>0.081374</td>\n",
       "      <td>0.071826</td>\n",
       "      <td>-0.029237</td>\n",
       "    </tr>\n",
       "    <tr>\n",
       "      <th>revol.bal</th>\n",
       "      <td>0.072316</td>\n",
       "      <td>0.005785</td>\n",
       "      <td>-0.034743</td>\n",
       "      <td>0.003258</td>\n",
       "      <td>-0.062395</td>\n",
       "      <td>0.083069</td>\n",
       "      <td>-0.187518</td>\n",
       "      <td>0.092527</td>\n",
       "      <td>0.233625</td>\n",
       "      <td>0.372140</td>\n",
       "      <td>0.188748</td>\n",
       "      <td>-0.015553</td>\n",
       "      <td>0.229344</td>\n",
       "      <td>1.000000</td>\n",
       "      <td>0.203779</td>\n",
       "      <td>0.022394</td>\n",
       "      <td>-0.033243</td>\n",
       "      <td>-0.031010</td>\n",
       "      <td>0.053699</td>\n",
       "    </tr>\n",
       "    <tr>\n",
       "      <th>revol.util</th>\n",
       "      <td>0.091321</td>\n",
       "      <td>0.211869</td>\n",
       "      <td>-0.053128</td>\n",
       "      <td>-0.114449</td>\n",
       "      <td>-0.108079</td>\n",
       "      <td>-0.060962</td>\n",
       "      <td>-0.104095</td>\n",
       "      <td>0.464837</td>\n",
       "      <td>0.081356</td>\n",
       "      <td>0.054881</td>\n",
       "      <td>0.337109</td>\n",
       "      <td>-0.541289</td>\n",
       "      <td>-0.024239</td>\n",
       "      <td>0.203779</td>\n",
       "      <td>1.000000</td>\n",
       "      <td>-0.013880</td>\n",
       "      <td>-0.042740</td>\n",
       "      <td>0.066717</td>\n",
       "      <td>0.082088</td>\n",
       "    </tr>\n",
       "    <tr>\n",
       "      <th>inq.last.6mths</th>\n",
       "      <td>-0.033640</td>\n",
       "      <td>-0.044240</td>\n",
       "      <td>0.024243</td>\n",
       "      <td>0.043827</td>\n",
       "      <td>-0.001445</td>\n",
       "      <td>0.042567</td>\n",
       "      <td>-0.535511</td>\n",
       "      <td>0.202780</td>\n",
       "      <td>-0.010419</td>\n",
       "      <td>0.029171</td>\n",
       "      <td>0.029189</td>\n",
       "      <td>-0.185293</td>\n",
       "      <td>-0.041736</td>\n",
       "      <td>0.022394</td>\n",
       "      <td>-0.013880</td>\n",
       "      <td>1.000000</td>\n",
       "      <td>0.021245</td>\n",
       "      <td>0.072673</td>\n",
       "      <td>0.149452</td>\n",
       "    </tr>\n",
       "    <tr>\n",
       "      <th>delinq.2yrs</th>\n",
       "      <td>-0.008817</td>\n",
       "      <td>-0.000697</td>\n",
       "      <td>-0.002214</td>\n",
       "      <td>-0.013098</td>\n",
       "      <td>0.004085</td>\n",
       "      <td>-0.004148</td>\n",
       "      <td>-0.076318</td>\n",
       "      <td>0.156079</td>\n",
       "      <td>-0.004368</td>\n",
       "      <td>0.029203</td>\n",
       "      <td>-0.021792</td>\n",
       "      <td>-0.216340</td>\n",
       "      <td>0.081374</td>\n",
       "      <td>-0.033243</td>\n",
       "      <td>-0.042740</td>\n",
       "      <td>0.021245</td>\n",
       "      <td>1.000000</td>\n",
       "      <td>0.009184</td>\n",
       "      <td>0.008881</td>\n",
       "    </tr>\n",
       "    <tr>\n",
       "      <th>pub.rec</th>\n",
       "      <td>0.014842</td>\n",
       "      <td>0.026845</td>\n",
       "      <td>-0.013521</td>\n",
       "      <td>0.004704</td>\n",
       "      <td>-0.011734</td>\n",
       "      <td>-0.005595</td>\n",
       "      <td>-0.054243</td>\n",
       "      <td>0.098162</td>\n",
       "      <td>-0.032760</td>\n",
       "      <td>0.016506</td>\n",
       "      <td>0.006209</td>\n",
       "      <td>-0.147592</td>\n",
       "      <td>0.071826</td>\n",
       "      <td>-0.031010</td>\n",
       "      <td>0.066717</td>\n",
       "      <td>0.072673</td>\n",
       "      <td>0.009184</td>\n",
       "      <td>1.000000</td>\n",
       "      <td>0.048634</td>\n",
       "    </tr>\n",
       "    <tr>\n",
       "      <th>not.fully.paid</th>\n",
       "      <td>-0.047136</td>\n",
       "      <td>-0.017543</td>\n",
       "      <td>0.021609</td>\n",
       "      <td>0.007272</td>\n",
       "      <td>-0.028580</td>\n",
       "      <td>0.084460</td>\n",
       "      <td>-0.158119</td>\n",
       "      <td>0.159552</td>\n",
       "      <td>0.049955</td>\n",
       "      <td>-0.033439</td>\n",
       "      <td>0.037362</td>\n",
       "      <td>-0.149666</td>\n",
       "      <td>-0.029237</td>\n",
       "      <td>0.053699</td>\n",
       "      <td>0.082088</td>\n",
       "      <td>0.149452</td>\n",
       "      <td>0.008881</td>\n",
       "      <td>0.048634</td>\n",
       "      <td>1.000000</td>\n",
       "    </tr>\n",
       "  </tbody>\n",
       "</table>\n",
       "</div>"
      ],
      "text/plain": [
       "                    credit_card  debt_consolidation  educational  \\\n",
       "credit_card            1.000000           -0.326850    -0.075076   \n",
       "debt_consolidation    -0.326850            1.000000    -0.161698   \n",
       "educational           -0.075076           -0.161698     1.000000   \n",
       "home_improvement      -0.103279           -0.222441    -0.051094   \n",
       "major_purchase        -0.085176           -0.183451    -0.042138   \n",
       "small_business        -0.102397           -0.220542    -0.050658   \n",
       "credit.policy          0.003216            0.020193    -0.031346   \n",
       "int.rate              -0.042109            0.123607    -0.019618   \n",
       "installment            0.000774            0.161658    -0.094510   \n",
       "log.annual.inc         0.072942           -0.026214    -0.119799   \n",
       "dti                    0.084476            0.179149    -0.035325   \n",
       "fico                  -0.012512           -0.154132    -0.013012   \n",
       "days.with.cr.line      0.046220           -0.009318    -0.042621   \n",
       "revol.bal              0.072316            0.005785    -0.034743   \n",
       "revol.util             0.091321            0.211869    -0.053128   \n",
       "inq.last.6mths        -0.033640           -0.044240     0.024243   \n",
       "delinq.2yrs           -0.008817           -0.000697    -0.002214   \n",
       "pub.rec                0.014842            0.026845    -0.013521   \n",
       "not.fully.paid        -0.047136           -0.017543     0.021609   \n",
       "\n",
       "                    home_improvement  major_purchase  small_business  \\\n",
       "credit_card                -0.103279       -0.085176       -0.102397   \n",
       "debt_consolidation         -0.222441       -0.183451       -0.220542   \n",
       "educational                -0.051094       -0.042138       -0.050658   \n",
       "home_improvement            1.000000       -0.057967       -0.069687   \n",
       "major_purchase             -0.057967        1.000000       -0.057472   \n",
       "small_business             -0.069687       -0.057472        1.000000   \n",
       "credit.policy               0.006036        0.024281       -0.003511   \n",
       "int.rate                   -0.050697       -0.068978        0.151247   \n",
       "installment                 0.023024       -0.079836        0.145654   \n",
       "log.annual.inc              0.116375       -0.031020        0.091540   \n",
       "dti                        -0.092788       -0.077719       -0.069245   \n",
       "fico                        0.097474        0.067129        0.063292   \n",
       "days.with.cr.line           0.068087       -0.020561        0.034883   \n",
       "revol.bal                   0.003258       -0.062395        0.083069   \n",
       "revol.util                 -0.114449       -0.108079       -0.060962   \n",
       "inq.last.6mths              0.043827       -0.001445        0.042567   \n",
       "delinq.2yrs                -0.013098        0.004085       -0.004148   \n",
       "pub.rec                     0.004704       -0.011734       -0.005595   \n",
       "not.fully.paid              0.007272       -0.028580        0.084460   \n",
       "\n",
       "                    credit.policy  int.rate  installment  log.annual.inc  \\\n",
       "credit_card              0.003216 -0.042109     0.000774        0.072942   \n",
       "debt_consolidation       0.020193  0.123607     0.161658       -0.026214   \n",
       "educational             -0.031346 -0.019618    -0.094510       -0.119799   \n",
       "home_improvement         0.006036 -0.050697     0.023024        0.116375   \n",
       "major_purchase           0.024281 -0.068978    -0.079836       -0.031020   \n",
       "small_business          -0.003511  0.151247     0.145654        0.091540   \n",
       "credit.policy            1.000000 -0.294089     0.058770        0.034906   \n",
       "int.rate                -0.294089  1.000000     0.276140        0.056383   \n",
       "installment              0.058770  0.276140     1.000000        0.448102   \n",
       "log.annual.inc           0.034906  0.056383     0.448102        1.000000   \n",
       "dti                     -0.090901  0.220006     0.050202       -0.054065   \n",
       "fico                     0.348319 -0.714821     0.086039        0.114576   \n",
       "days.with.cr.line        0.099026 -0.124022     0.183297        0.336896   \n",
       "revol.bal               -0.187518  0.092527     0.233625        0.372140   \n",
       "revol.util              -0.104095  0.464837     0.081356        0.054881   \n",
       "inq.last.6mths          -0.535511  0.202780    -0.010419        0.029171   \n",
       "delinq.2yrs             -0.076318  0.156079    -0.004368        0.029203   \n",
       "pub.rec                 -0.054243  0.098162    -0.032760        0.016506   \n",
       "not.fully.paid          -0.158119  0.159552     0.049955       -0.033439   \n",
       "\n",
       "                         dti      fico  days.with.cr.line  revol.bal  \\\n",
       "credit_card         0.084476 -0.012512           0.046220   0.072316   \n",
       "debt_consolidation  0.179149 -0.154132          -0.009318   0.005785   \n",
       "educational        -0.035325 -0.013012          -0.042621  -0.034743   \n",
       "home_improvement   -0.092788  0.097474           0.068087   0.003258   \n",
       "major_purchase     -0.077719  0.067129          -0.020561  -0.062395   \n",
       "small_business     -0.069245  0.063292           0.034883   0.083069   \n",
       "credit.policy      -0.090901  0.348319           0.099026  -0.187518   \n",
       "int.rate            0.220006 -0.714821          -0.124022   0.092527   \n",
       "installment         0.050202  0.086039           0.183297   0.233625   \n",
       "log.annual.inc     -0.054065  0.114576           0.336896   0.372140   \n",
       "dti                 1.000000 -0.241191           0.060101   0.188748   \n",
       "fico               -0.241191  1.000000           0.263880  -0.015553   \n",
       "days.with.cr.line   0.060101  0.263880           1.000000   0.229344   \n",
       "revol.bal           0.188748 -0.015553           0.229344   1.000000   \n",
       "revol.util          0.337109 -0.541289          -0.024239   0.203779   \n",
       "inq.last.6mths      0.029189 -0.185293          -0.041736   0.022394   \n",
       "delinq.2yrs        -0.021792 -0.216340           0.081374  -0.033243   \n",
       "pub.rec             0.006209 -0.147592           0.071826  -0.031010   \n",
       "not.fully.paid      0.037362 -0.149666          -0.029237   0.053699   \n",
       "\n",
       "                    revol.util  inq.last.6mths  delinq.2yrs   pub.rec  \\\n",
       "credit_card           0.091321       -0.033640    -0.008817  0.014842   \n",
       "debt_consolidation    0.211869       -0.044240    -0.000697  0.026845   \n",
       "educational          -0.053128        0.024243    -0.002214 -0.013521   \n",
       "home_improvement     -0.114449        0.043827    -0.013098  0.004704   \n",
       "major_purchase       -0.108079       -0.001445     0.004085 -0.011734   \n",
       "small_business       -0.060962        0.042567    -0.004148 -0.005595   \n",
       "credit.policy        -0.104095       -0.535511    -0.076318 -0.054243   \n",
       "int.rate              0.464837        0.202780     0.156079  0.098162   \n",
       "installment           0.081356       -0.010419    -0.004368 -0.032760   \n",
       "log.annual.inc        0.054881        0.029171     0.029203  0.016506   \n",
       "dti                   0.337109        0.029189    -0.021792  0.006209   \n",
       "fico                 -0.541289       -0.185293    -0.216340 -0.147592   \n",
       "days.with.cr.line    -0.024239       -0.041736     0.081374  0.071826   \n",
       "revol.bal             0.203779        0.022394    -0.033243 -0.031010   \n",
       "revol.util            1.000000       -0.013880    -0.042740  0.066717   \n",
       "inq.last.6mths       -0.013880        1.000000     0.021245  0.072673   \n",
       "delinq.2yrs          -0.042740        0.021245     1.000000  0.009184   \n",
       "pub.rec               0.066717        0.072673     0.009184  1.000000   \n",
       "not.fully.paid        0.082088        0.149452     0.008881  0.048634   \n",
       "\n",
       "                    not.fully.paid  \n",
       "credit_card              -0.047136  \n",
       "debt_consolidation       -0.017543  \n",
       "educational               0.021609  \n",
       "home_improvement          0.007272  \n",
       "major_purchase           -0.028580  \n",
       "small_business            0.084460  \n",
       "credit.policy            -0.158119  \n",
       "int.rate                  0.159552  \n",
       "installment               0.049955  \n",
       "log.annual.inc           -0.033439  \n",
       "dti                       0.037362  \n",
       "fico                     -0.149666  \n",
       "days.with.cr.line        -0.029237  \n",
       "revol.bal                 0.053699  \n",
       "revol.util                0.082088  \n",
       "inq.last.6mths            0.149452  \n",
       "delinq.2yrs               0.008881  \n",
       "pub.rec                   0.048634  \n",
       "not.fully.paid            1.000000  "
      ]
     },
     "execution_count": 16,
     "metadata": {},
     "output_type": "execute_result"
    }
   ],
   "source": [
    "df.corr()"
   ]
  },
  {
   "cell_type": "code",
   "execution_count": 17,
   "metadata": {},
   "outputs": [],
   "source": [
    "df.drop(['home_improvement','delinq.2yrs'],axis=1,inplace=True)"
   ]
  },
  {
   "cell_type": "code",
   "execution_count": 18,
   "metadata": {},
   "outputs": [],
   "source": [
    "from sklearn.preprocessing import StandardScaler\n",
    "ss=StandardScaler()\n",
    "scaled_array=ss.fit_transform(df.drop('not.fully.paid',axis=1))"
   ]
  },
  {
   "cell_type": "code",
   "execution_count": 19,
   "metadata": {},
   "outputs": [],
   "source": [
    "X=pd.DataFrame(scaled_array,columns=df.columns[:-1]) "
   ]
  },
  {
   "cell_type": "code",
   "execution_count": 20,
   "metadata": {},
   "outputs": [],
   "source": [
    "y=df['not.fully.paid']\n"
   ]
  },
  {
   "cell_type": "code",
   "execution_count": 21,
   "metadata": {},
   "outputs": [],
   "source": [
    "from sklearn.model_selection import train_test_split"
   ]
  },
  {
   "cell_type": "code",
   "execution_count": 22,
   "metadata": {},
   "outputs": [],
   "source": [
    "X_train,X_test,y_train,y_test=train_test_split(X,y,test_size=0.3)"
   ]
  },
  {
   "cell_type": "code",
   "execution_count": 23,
   "metadata": {},
   "outputs": [],
   "source": [
    "from sklearn.tree import DecisionTreeClassifier"
   ]
  },
  {
   "cell_type": "code",
   "execution_count": 24,
   "metadata": {},
   "outputs": [],
   "source": [
    "model=DecisionTreeClassifier()"
   ]
  },
  {
   "cell_type": "code",
   "execution_count": 25,
   "metadata": {},
   "outputs": [
    {
     "data": {
      "text/plain": [
       "DecisionTreeClassifier(class_weight=None, criterion='gini', max_depth=None,\n",
       "                       max_features=None, max_leaf_nodes=None,\n",
       "                       min_impurity_decrease=0.0, min_impurity_split=None,\n",
       "                       min_samples_leaf=1, min_samples_split=2,\n",
       "                       min_weight_fraction_leaf=0.0, presort=False,\n",
       "                       random_state=None, splitter='best')"
      ]
     },
     "execution_count": 25,
     "metadata": {},
     "output_type": "execute_result"
    }
   ],
   "source": [
    "model.fit(X_train,y_train)"
   ]
  },
  {
   "cell_type": "code",
   "execution_count": 26,
   "metadata": {},
   "outputs": [],
   "source": [
    "ypred=model.predict(X_test)"
   ]
  },
  {
   "cell_type": "code",
   "execution_count": 27,
   "metadata": {},
   "outputs": [],
   "source": [
    "from sklearn.metrics import confusion_matrix"
   ]
  },
  {
   "cell_type": "code",
   "execution_count": 28,
   "metadata": {},
   "outputs": [
    {
     "data": {
      "text/plain": [
       "array([[2035,  366],\n",
       "       [ 375,   98]], dtype=int64)"
      ]
     },
     "execution_count": 28,
     "metadata": {},
     "output_type": "execute_result"
    }
   ],
   "source": [
    "confusion_matrix(y_test,ypred)"
   ]
  },
  {
   "cell_type": "code",
   "execution_count": 29,
   "metadata": {},
   "outputs": [
    {
     "data": {
      "text/plain": [
       "0.7421711899791231"
      ]
     },
     "execution_count": 29,
     "metadata": {},
     "output_type": "execute_result"
    }
   ],
   "source": [
    "np.mean(y_test==ypred)"
   ]
  },
  {
   "cell_type": "code",
   "execution_count": 30,
   "metadata": {},
   "outputs": [],
   "source": [
    "############on SOcial network Data"
   ]
  },
  {
   "cell_type": "code",
   "execution_count": 31,
   "metadata": {},
   "outputs": [],
   "source": [
    "df = pd.read_csv('Social_Network_Ads.csv')"
   ]
  },
  {
   "cell_type": "code",
   "execution_count": 32,
   "metadata": {},
   "outputs": [],
   "source": [
    "df.drop('User ID',axis=1,inplace=True)"
   ]
  },
  {
   "cell_type": "code",
   "execution_count": 33,
   "metadata": {},
   "outputs": [],
   "source": [
    "gender=pd.get_dummies(df['Gender'],drop_first=True)"
   ]
  },
  {
   "cell_type": "code",
   "execution_count": 34,
   "metadata": {},
   "outputs": [],
   "source": [
    "df=pd.concat([gender,df],axis=1)"
   ]
  },
  {
   "cell_type": "code",
   "execution_count": 35,
   "metadata": {},
   "outputs": [],
   "source": [
    "df.drop(['Gender'],axis=1,inplace=True)"
   ]
  },
  {
   "cell_type": "code",
   "execution_count": 36,
   "metadata": {},
   "outputs": [
    {
     "data": {
      "text/plain": [
       "<matplotlib.axes._subplots.AxesSubplot at 0xcf9e736cc0>"
      ]
     },
     "execution_count": 36,
     "metadata": {},
     "output_type": "execute_result"
    },
    {
     "data": {
      "image/png": "[encoded data removed]",
      "text/plain": [
       "<Figure size 432x288 with 2 Axes>"
      ]
     },
     "metadata": {
      "needs_background": "light"
     },
     "output_type": "display_data"
    }
   ],
   "source": [
    "sns.heatmap(df.corr())"
   ]
  },
  {
   "cell_type": "code",
   "execution_count": 37,
   "metadata": {},
   "outputs": [],
   "source": [
    "df.drop('Male',axis=1,inplace=True)"
   ]
  },
  {
   "cell_type": "code",
   "execution_count": 38,
   "metadata": {},
   "outputs": [],
   "source": [
    "from sklearn.preprocessing import StandardScaler"
   ]
  },
  {
   "cell_type": "code",
   "execution_count": 39,
   "metadata": {},
   "outputs": [],
   "source": [
    "ss=StandardScaler()"
   ]
  },
  {
   "cell_type": "code",
   "execution_count": 40,
   "metadata": {},
   "outputs": [],
   "source": [
    "scaled_array=ss.fit_transform(df.drop('Purchased',axis=1))"
   ]
  },
  {
   "cell_type": "code",
   "execution_count": 41,
   "metadata": {},
   "outputs": [],
   "source": [
    "X=pd.DataFrame(scaled_array,columns=df.columns[:-1])"
   ]
  },
  {
   "cell_type": "code",
   "execution_count": 42,
   "metadata": {},
   "outputs": [],
   "source": [
    "y=df['Purchased']"
   ]
  },
  {
   "cell_type": "code",
   "execution_count": 43,
   "metadata": {},
   "outputs": [],
   "source": [
    "from sklearn.model_selection import train_test_split"
   ]
  },
  {
   "cell_type": "code",
   "execution_count": 44,
   "metadata": {},
   "outputs": [],
   "source": [
    "X_train,X_test,y_train,y_test=train_test_split(X,y,test_size=0.3)"
   ]
  },
  {
   "cell_type": "code",
   "execution_count": 45,
   "metadata": {},
   "outputs": [],
   "source": [
    "from sklearn.tree import DecisionTreeClassifier"
   ]
  },
  {
   "cell_type": "code",
   "execution_count": 46,
   "metadata": {},
   "outputs": [],
   "source": [
    "model=DecisionTreeClassifier()"
   ]
  },
  {
   "cell_type": "code",
   "execution_count": 47,
   "metadata": {},
   "outputs": [
    {
     "data": {
      "text/plain": [
       "DecisionTreeClassifier(class_weight=None, criterion='gini', max_depth=None,\n",
       "                       max_features=None, max_leaf_nodes=None,\n",
       "                       min_impurity_decrease=0.0, min_impurity_split=None,\n",
       "                       min_samples_leaf=1, min_samples_split=2,\n",
       "                       min_weight_fraction_leaf=0.0, presort=False,\n",
       "                       random_state=None, splitter='best')"
      ]
     },
     "execution_count": 47,
     "metadata": {},
     "output_type": "execute_result"
    }
   ],
   "source": [
    "model.fit(X_train,y_train)"
   ]
  },
  {
   "cell_type": "code",
   "execution_count": 48,
   "metadata": {},
   "outputs": [],
   "source": [
    "ypred=model.predict(X_test)"
   ]
  },
  {
   "cell_type": "code",
   "execution_count": 49,
   "metadata": {},
   "outputs": [],
   "source": [
    "from sklearn.metrics import confusion_matrix"
   ]
  },
  {
   "cell_type": "code",
   "execution_count": 50,
   "metadata": {},
   "outputs": [
    {
     "data": {
      "text/plain": [
       "array([[66, 13],\n",
       "       [ 7, 34]], dtype=int64)"
      ]
     },
     "execution_count": 50,
     "metadata": {},
     "output_type": "execute_result"
    }
   ],
   "source": [
    "confusion_matrix(y_test,ypred)"
   ]
  },
  {
   "cell_type": "code",
   "execution_count": 51,
   "metadata": {},
   "outputs": [
    {
     "data": {
      "text/plain": [
       "0.8333333333333334"
      ]
     },
     "execution_count": 51,
     "metadata": {},
     "output_type": "execute_result"
    }
   ],
   "source": [
    "np.mean(y_test==ypred)"
   ]
  },
  {
   "cell_type": "code",
   "execution_count": 52,
   "metadata": {},
   "outputs": [],
   "source": [
    "###### Random FOrest#########\n",
    "###Random Forest: Ensemble Algo:::\n",
    "#### works on random selection of units forming number of trees( n number of trees , k times)"
   ]
  },
  {
   "cell_type": "code",
   "execution_count": 53,
   "metadata": {},
   "outputs": [],
   "source": [
    "from sklearn.ensemble import RandomForestClassifier"
   ]
  },
  {
   "cell_type": "code",
   "execution_count": 57,
   "metadata": {},
   "outputs": [],
   "source": [
    "model=RandomForestClassifier(n_estimators=60)"
   ]
  },
  {
   "cell_type": "code",
   "execution_count": 58,
   "metadata": {},
   "outputs": [
    {
     "data": {
      "text/plain": [
       "RandomForestClassifier(bootstrap=True, class_weight=None, criterion='gini',\n",
       "                       max_depth=None, max_features='auto', max_leaf_nodes=None,\n",
       "                       min_impurity_decrease=0.0, min_impurity_split=None,\n",
       "                       min_samples_leaf=1, min_samples_split=2,\n",
       "                       min_weight_fraction_leaf=0.0, n_estimators=60,\n",
       "                       n_jobs=None, oob_score=False, random_state=None,\n",
       "                       verbose=0, warm_start=False)"
      ]
     },
     "execution_count": 58,
     "metadata": {},
     "output_type": "execute_result"
    }
   ],
   "source": [
    "model.fit(X_train,y_train)"
   ]
  },
  {
   "cell_type": "code",
   "execution_count": 62,
   "metadata": {},
   "outputs": [],
   "source": [
    "ypred1=model.predict(X_test)"
   ]
  },
  {
   "cell_type": "code",
   "execution_count": 63,
   "metadata": {},
   "outputs": [],
   "source": [
    "from sklearn.metrics import confusion_matrix"
   ]
  },
  {
   "cell_type": "code",
   "execution_count": 64,
   "metadata": {},
   "outputs": [
    {
     "data": {
      "text/plain": [
       "array([[71,  8],\n",
       "       [ 3, 38]], dtype=int64)"
      ]
     },
     "execution_count": 64,
     "metadata": {},
     "output_type": "execute_result"
    }
   ],
   "source": [
    "confusion_matrix(y_test,ypred1)"
   ]
  },
  {
   "cell_type": "code",
   "execution_count": 65,
   "metadata": {},
   "outputs": [
    {
     "data": {
      "text/plain": [
       "0.9083333333333333"
      ]
     },
     "execution_count": 65,
     "metadata": {},
     "output_type": "execute_result"
    }
   ],
   "source": [
    "np.mean(ypred1==y_test)"
   ]
  },
  {
   "cell_type": "code",
   "execution_count": null,
   "metadata": {},
   "outputs": [],
   "source": []
  }
 ],
 "metadata": {
  "kernelspec": {
   "display_name": "Python 3",
   "language": "python",
   "name": "python3"
  },
  "language_info": {
   "codemirror_mode": {
    "name": "ipython",
    "version": 3
   },
   "file_extension": ".py",
   "mimetype": "text/x-python",
   "name": "python",
   "nbconvert_exporter": "python",
   "pygments_lexer": "ipython3",
   "version": "3.7.3"
  }
 },
 "nbformat": 4,
 "nbformat_minor": 2
}
